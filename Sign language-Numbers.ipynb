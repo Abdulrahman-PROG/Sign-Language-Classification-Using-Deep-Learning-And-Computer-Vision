{
 "cells": [
  {
   "cell_type": "code",
   "execution_count": 1,
   "id": "ee2a7a5e",
   "metadata": {},
   "outputs": [],
   "source": [
    "import cv2\n",
    "import tensorflow as tf\n",
    "from keras.preprocessing.image import ImageDataGenerator\n",
    "import numpy as np\n",
    "\n",
    "import matplotlib.pyplot as plt\n",
    "from keras.models import Sequential\n",
    "from keras.layers import Dense,Dropout,Conv2D,MaxPool2D,Flatten\n",
    "\n",
    "from tensorflow.keras.optimizers import Adam, SGD\n",
    "from keras.callbacks import ReduceLROnPlateau,EarlyStopping\n"
   ]
  },
  {
   "cell_type": "code",
   "execution_count": 2,
   "id": "0227b07b",
   "metadata": {},
   "outputs": [],
   "source": [
    "def segmentation(frame,thresshold=30):\n",
    "    global background\n",
    "    \n",
    "    difference = cv2.absdiff(background.astype(\"uint8\"), frame)\n",
    "    _,processed_frame=cv2.threshold(difference,thresshold,255,cv2.THRESH_BINARY)\n",
    "    contours,_=cv2.findContours(processed_frame,cv2.RETR_EXTERNAL,cv2.CHAIN_APPROX_SIMPLE)\n",
    "    if len(contours) == 0:\n",
    "        return None\n",
    "    else:\n",
    "        contour = max(contours,key = cv2.contourArea)\n",
    "    return (processed_frame,contour)"
   ]
  },
  {
   "cell_type": "code",
   "execution_count": 150,
   "id": "ab4cb7e6",
   "metadata": {},
   "outputs": [],
   "source": [
    "cam = cv2.VideoCapture(0)\n",
    "\n",
    "#roi - region of interest\n",
    "top=50\n",
    "bottom=300\n",
    "right=50\n",
    "left=250\n",
    "    \n",
    "    \n",
    "background=None\n",
    "count = 0\n",
    "\n",
    "digit=0\n",
    "\n",
    "sample_number=0\n",
    "while True: \n",
    "    value , frame = cam.read()\n",
    "    framecopy=frame.copy()\n",
    "    framecopy=cv2.flip(framecopy,1)\n",
    "    roi = framecopy[top:bottom,right:left]\n",
    "    roi_gray=cv2.cvtColor(roi,cv2.COLOR_BGR2GRAY)\n",
    "    roi_gray=cv2.GaussianBlur(roi_gray,(9,9),0)\n",
    "    \n",
    "    if background is None:\n",
    "        background = roi_gray.copy().astype('float')\n",
    "    \n",
    "    \n",
    "    \n",
    "    cv2.rectangle(framecopy,(left,top),(right,bottom),(0,0,255),3)\n",
    "    if count < 30:\n",
    "        cv2.accumulateWeighted(roi_gray,background,0.5)\n",
    "        cv2.putText(framecopy,'Loading...',(280,200),cv2.FONT_HERSHEY_SIMPLEX,1.5,(255,255,255),3)\n",
    "\n",
    "    collection = segmentation(roi_gray)\n",
    "    k = cv2.waitKey(1)\n",
    "\n",
    "    if collection is not None:\n",
    "        roi_processed,contour=collection\n",
    "        cv2.drawContours(framecopy,[contour+(right,top)],-1,(0,255,0),3)\n",
    "        \n",
    "        if k == ord(\" \"):\n",
    "            cv2.putText(framecopy,str(sample_number)+' Gesture('+str(digit)+' )',(70,45),cv2.FONT_HERSHEY_SIMPLEX,1.5,(255,255,255),3)\n",
    "            cv2.imwrite(\"D:/acpc/train_/\"+str(digit)+'/'+str(digit)+'-'+str(sample_number)+'.jpg',roi_processed)\n",
    "            sample_number+=1\n",
    "            \n",
    "        cv2.imshow('Segmantation',roi_processed)\n",
    "        \n",
    "    cv2.putText(framecopy,'Gesture( '+str(digit)+' )',(50,340),cv2.FONT_HERSHEY_SIMPLEX,1.5,(255,255,255),1)\n",
    "\n",
    "    cv2.imshow('Camera',framecopy)\n",
    "\n",
    "    count+=1\n",
    "    if k == 27:\n",
    "        break\n",
    "    elif k == 13:\n",
    "        digit = (digit+1) % 11\n",
    "        sample_number=0\n",
    "        \n",
    "        \n",
    "        \n",
    "    \n",
    "cv2.destroyAllWindows()\n",
    "cam.release()"
   ]
  },
  {
   "cell_type": "code",
   "execution_count": 3,
   "id": "fabb807b",
   "metadata": {},
   "outputs": [
    {
     "name": "stdout",
     "output_type": "stream",
     "text": [
      "Found 7154 images belonging to 10 classes.\n"
     ]
    }
   ],
   "source": [
    "train_data_path=\"D:/hema/asl_dataset\"\n",
    "train_data_batches = ImageDataGenerator(preprocessing_function=tf.keras.applications.vgg16.preprocess_input).flow_from_directory(directory=train_data_path, target_size=(64,64), class_mode='categorical', batch_size=10, shuffle=True)\n"
   ]
  },
  {
   "cell_type": "code",
   "execution_count": 4,
   "id": "81b1bf6b",
   "metadata": {},
   "outputs": [],
   "source": [
    "images_train , labels_train = next(train_data_batches)"
   ]
  },
  {
   "cell_type": "code",
   "execution_count": 5,
   "id": "e577219f",
   "metadata": {},
   "outputs": [
    {
     "name": "stdout",
     "output_type": "stream",
     "text": [
      "Found 2810 images belonging to 10 classes.\n"
     ]
    }
   ],
   "source": [
    "test_data_path = \"D:/hema/test\"\n",
    "test_data_batches = ImageDataGenerator(preprocessing_function=tf.keras.applications.vgg16.preprocess_input).flow_from_directory(directory=test_data_path, target_size=(64,64), class_mode='categorical', batch_size=10, shuffle=True)\n"
   ]
  },
  {
   "cell_type": "code",
   "execution_count": 6,
   "id": "a7558185",
   "metadata": {},
   "outputs": [],
   "source": [
    "images_test , labels_test = next(test_data_batches)"
   ]
  },
  {
   "cell_type": "code",
   "execution_count": 7,
   "id": "0ce55ce4",
   "metadata": {},
   "outputs": [],
   "source": [
    "def display(images):\n",
    "    fig,axes = plt.subplots(1,10,figsize=(30,20))\n",
    "    for image ,ax in zip(images,axes):\n",
    "        image=np.clip(image,0,1)\n",
    "        ax.imshow(image)\n",
    "        ax.axis('off')\n",
    "        \n",
    "    plt.tight_layout\n",
    "    plt.show()"
   ]
  },
  {
   "cell_type": "code",
   "execution_count": 8,
   "id": "43c8c617",
   "metadata": {},
   "outputs": [
    {
     "data": {
      "image/png": "[encoded data removed]",
      "text/plain": [
       "<Figure size 3000x2000 with 10 Axes>"
      ]
     },
     "metadata": {},
     "output_type": "display_data"
    }
   ],
   "source": [
    "display(images_train)"
   ]
  },
  {
   "cell_type": "code",
   "execution_count": 9,
   "id": "2774defe",
   "metadata": {},
   "outputs": [],
   "source": [
    "words = {0:'zero',1:'one',2:'two',3:'three',4:'four',5:'five',6:'sex',7:'seven',8:'eight',9:'nine',10:'ten'}"
   ]
  },
  {
   "cell_type": "code",
   "execution_count": 10,
   "id": "f3f4b908",
   "metadata": {},
   "outputs": [
    {
     "data": {
      "image/png": "[encoded data removed]",
      "text/plain": [
       "<Figure size 3000x2000 with 10 Axes>"
      ]
     },
     "metadata": {},
     "output_type": "display_data"
    },
    {
     "name": "stdout",
     "output_type": "stream",
     "text": [
      "sex nine four eight seven eight seven three eight zero "
     ]
    }
   ],
   "source": [
    "display(images_test)\n",
    "\n",
    "def digits(labels):\n",
    "    for label in labels:\n",
    "        print(words[np.argmax(label)],end=\" \")\n",
    "        \n",
    "digits(labels_test)"
   ]
  },
  {
   "cell_type": "code",
   "execution_count": 159,
   "id": "43467b20",
   "metadata": {},
   "outputs": [],
   "source": [
    "def createModel():\n",
    "    model = Sequential()\n",
    "    \n",
    "    model.add(Conv2D(filters=32,kernel_size=(3,3), activation='relu',input_shape=(64,64,3)))\n",
    "    model.add(MaxPool2D(pool_size=(2,2),strides=2))\n",
    "    \n",
    "    model.add(Conv2D(filters=64,kernel_size=(3,3), activation='relu',padding='same'))\n",
    "    model.add(MaxPool2D(pool_size=(2,2),strides=2))\n",
    "        \n",
    "    model.add(Conv2D(filters=128,kernel_size=(3,3), activation='relu',padding='valid'))\n",
    "    model.add(MaxPool2D(pool_size=(2,2),strides=2))\n",
    "    \n",
    "    model.add(Flatten())\n",
    "    \n",
    "    model.add(Dense(64,activation='relu'))\n",
    "    model.add(Dense(128,activation='relu'))\n",
    "    model.add(Dropout(.2))\n",
    "    model.add(Dense(128,activation='relu'))\n",
    "    model.add(Dense(10,activation='softmax'))\n",
    "    \n",
    "    return model\n",
    "\n",
    "model=createModel()\n",
    "\n"
   ]
  },
  {
   "cell_type": "code",
   "execution_count": 160,
   "id": "2ab9e649",
   "metadata": {},
   "outputs": [],
   "source": [
    "model.compile(optimizer=Adam(learning_rate=0.001),loss='categorical_crossentropy',metrics=['accuracy'])\n",
    "\n",
    "reduceLR = ReduceLROnPlateau(monitor='val_loss',factor=0.2,patience=1,min_lr=0.0005)\n",
    "early_stop = EarlyStopping(monitor='val_loss',min_delta=0,patience=1,mode='auto',verbose=0)"
   ]
  },
  {
   "cell_type": "code",
   "execution_count": 161,
   "id": "9e4f6435",
   "metadata": {
    "scrolled": false
   },
   "outputs": [
    {
     "name": "stdout",
     "output_type": "stream",
     "text": [
      "Epoch 1/10\n",
      "716/716 [==============================] - 30s 40ms/step - loss: 0.3794 - accuracy: 0.9388 - val_loss: 0.0141 - val_accuracy: 0.9975 - lr: 0.0010\n",
      "Epoch 2/10\n",
      "716/716 [==============================] - 29s 40ms/step - loss: 0.1123 - accuracy: 0.9788 - val_loss: 0.0401 - val_accuracy: 0.9879 - lr: 0.0010\n"
     ]
    },
    {
     "data": {
      "text/plain": [
       "<keras.callbacks.History at 0x25cdd842be0>"
      ]
     },
     "execution_count": 161,
     "metadata": {},
     "output_type": "execute_result"
    }
   ],
   "source": [
    "model.fit(train_data_batches,epochs=10,callbacks=[reduceLR,early_stop],validation_data=test_data_batches)"
   ]
  },
  {
   "cell_type": "code",
   "execution_count": 162,
   "id": "d5701513",
   "metadata": {},
   "outputs": [
    {
     "name": "stdout",
     "output_type": "stream",
     "text": [
      "loss = 0.02113240770995617 || accuracy = 100.0%\n"
     ]
    }
   ],
   "source": [
    "score = model.evaluate(images_test,labels_test,verbose=0)\n",
    "print(f'{model.metrics_names[0]} = {score[0]} || {model.metrics_names[1]} = {score[1]*100}%')"
   ]
  },
  {
   "cell_type": "code",
   "execution_count": 3,
   "id": "67192ce2",
   "metadata": {},
   "outputs": [
    {
     "ename": "NameError",
     "evalue": "name 'model' is not defined",
     "output_type": "error",
     "traceback": [
      "\u001b[1;31m---------------------------------------------------------------------------\u001b[0m",
      "\u001b[1;31mNameError\u001b[0m                                 Traceback (most recent call last)",
      "\u001b[1;32m~\\AppData\\Local\\Temp\\ipykernel_18068\\2453564308.py\u001b[0m in \u001b[0;36m<module>\u001b[1;34m\u001b[0m\n\u001b[1;32m----> 1\u001b[1;33m \u001b[0mmodel\u001b[0m\u001b[1;33m.\u001b[0m\u001b[0msave\u001b[0m\u001b[1;33m(\u001b[0m\u001b[1;34m'D:\\Signdigits2.h5'\u001b[0m\u001b[1;33m)\u001b[0m\u001b[1;33m\u001b[0m\u001b[1;33m\u001b[0m\u001b[0m\n\u001b[0m",
      "\u001b[1;31mNameError\u001b[0m: name 'model' is not defined"
     ]
    }
   ],
   "source": [
    "model.save('D:\\Signdigits2.h5')\n"
   ]
  },
  {
   "cell_type": "code",
   "execution_count": 11,
   "id": "ab13ab54",
   "metadata": {},
   "outputs": [],
   "source": [
    "model4 = tf.keras.models.load_model('D:\\Signdigits2.h5')"
   ]
  },
  {
   "cell_type": "code",
   "execution_count": 37,
   "id": "5641f23b",
   "metadata": {},
   "outputs": [
    {
     "name": "stdout",
     "output_type": "stream",
     "text": [
      "1/1 [==============================] - 0s 47ms/step\n",
      "1/1 [==============================] - 0s 31ms/step\n",
      "1/1 [==============================] - 0s 16ms/step\n",
      "1/1 [==============================] - 0s 32ms/step\n",
      "1/1 [==============================] - 0s 17ms/step\n",
      "1/1 [==============================] - 0s 32ms/step\n",
      "1/1 [==============================] - 0s 32ms/step\n",
      "1/1 [==============================] - 0s 30ms/step\n",
      "1/1 [==============================] - 0s 23ms/step\n",
      "1/1 [==============================] - 0s 31ms/step\n",
      "1/1 [==============================] - 0s 31ms/step\n",
      "1/1 [==============================] - 0s 16ms/step\n",
      "1/1 [==============================] - 0s 26ms/step\n",
      "1/1 [==============================] - 0s 32ms/step\n",
      "1/1 [==============================] - 0s 20ms/step\n",
      "1/1 [==============================] - 0s 14ms/step\n",
      "1/1 [==============================] - 0s 24ms/step\n",
      "1/1 [==============================] - 0s 37ms/step\n",
      "1/1 [==============================] - 0s 30ms/step\n",
      "1/1 [==============================] - 0s 32ms/step\n",
      "1/1 [==============================] - 0s 21ms/step\n",
      "1/1 [==============================] - 0s 32ms/step\n",
      "1/1 [==============================] - 0s 30ms/step\n",
      "1/1 [==============================] - 0s 31ms/step\n",
      "1/1 [==============================] - 0s 31ms/step\n",
      "1/1 [==============================] - 0s 23ms/step\n",
      "1/1 [==============================] - 0s 32ms/step\n",
      "1/1 [==============================] - 0s 31ms/step\n",
      "1/1 [==============================] - 0s 11ms/step\n",
      "1/1 [==============================] - 0s 21ms/step\n",
      "1/1 [==============================] - 0s 32ms/step\n",
      "1/1 [==============================] - 0s 21ms/step\n",
      "1/1 [==============================] - 0s 16ms/step\n",
      "1/1 [==============================] - 0s 20ms/step\n",
      "1/1 [==============================] - 0s 28ms/step\n",
      "1/1 [==============================] - 0s 31ms/step\n",
      "1/1 [==============================] - 0s 21ms/step\n",
      "1/1 [==============================] - 0s 30ms/step\n",
      "1/1 [==============================] - 0s 32ms/step\n",
      "1/1 [==============================] - 0s 16ms/step\n",
      "1/1 [==============================] - 0s 31ms/step\n",
      "1/1 [==============================] - 0s 31ms/step\n",
      "1/1 [==============================] - 0s 25ms/step\n",
      "1/1 [==============================] - 0s 16ms/step\n",
      "1/1 [==============================] - 0s 16ms/step\n",
      "1/1 [==============================] - 0s 22ms/step\n",
      "1/1 [==============================] - 0s 35ms/step\n",
      "1/1 [==============================] - 0s 24ms/step\n",
      "1/1 [==============================] - 0s 15ms/step\n",
      "1/1 [==============================] - 0s 18ms/step\n",
      "1/1 [==============================] - 0s 16ms/step\n",
      "1/1 [==============================] - 0s 24ms/step\n",
      "1/1 [==============================] - 0s 16ms/step\n",
      "1/1 [==============================] - 0s 21ms/step\n",
      "1/1 [==============================] - 0s 32ms/step\n",
      "1/1 [==============================] - 0s 31ms/step\n",
      "1/1 [==============================] - 0s 31ms/step\n",
      "1/1 [==============================] - 0s 29ms/step\n",
      "1/1 [==============================] - 0s 16ms/step\n",
      "1/1 [==============================] - 0s 18ms/step\n",
      "1/1 [==============================] - 0s 16ms/step\n",
      "1/1 [==============================] - 0s 26ms/step\n",
      "1/1 [==============================] - 0s 31ms/step\n",
      "1/1 [==============================] - 0s 32ms/step\n",
      "1/1 [==============================] - 0s 21ms/step\n",
      "1/1 [==============================] - 0s 22ms/step\n",
      "1/1 [==============================] - 0s 16ms/step\n",
      "1/1 [==============================] - 0s 23ms/step\n",
      "1/1 [==============================] - 0s 33ms/step\n",
      "1/1 [==============================] - 0s 16ms/step\n",
      "1/1 [==============================] - 0s 16ms/step\n",
      "1/1 [==============================] - 0s 34ms/step\n",
      "1/1 [==============================] - 0s 13ms/step\n",
      "1/1 [==============================] - 0s 16ms/step\n",
      "1/1 [==============================] - 0s 16ms/step\n",
      "1/1 [==============================] - 0s 31ms/step\n",
      "1/1 [==============================] - 0s 31ms/step\n",
      "1/1 [==============================] - 0s 16ms/step\n",
      "1/1 [==============================] - 0s 18ms/step\n",
      "1/1 [==============================] - 0s 16ms/step\n",
      "1/1 [==============================] - 0s 31ms/step\n",
      "1/1 [==============================] - 0s 16ms/step\n",
      "1/1 [==============================] - 0s 25ms/step\n",
      "1/1 [==============================] - 0s 30ms/step\n",
      "1/1 [==============================] - 0s 31ms/step\n",
      "1/1 [==============================] - 0s 16ms/step\n",
      "1/1 [==============================] - 0s 31ms/step\n",
      "1/1 [==============================] - 0s 18ms/step\n",
      "1/1 [==============================] - 0s 16ms/step\n",
      "1/1 [==============================] - 0s 16ms/step\n",
      "1/1 [==============================] - 0s 16ms/step\n",
      "1/1 [==============================] - 0s 16ms/step\n",
      "1/1 [==============================] - 0s 16ms/step\n",
      "1/1 [==============================] - 0s 14ms/step\n",
      "1/1 [==============================] - 0s 20ms/step\n",
      "1/1 [==============================] - 0s 9ms/step\n",
      "1/1 [==============================] - 0s 20ms/step\n",
      "1/1 [==============================] - 0s 28ms/step\n",
      "1/1 [==============================] - 0s 16ms/step\n",
      "1/1 [==============================] - 0s 18ms/step\n",
      "1/1 [==============================] - 0s 31ms/step\n",
      "1/1 [==============================] - 0s 35ms/step\n",
      "1/1 [==============================] - 0s 23ms/step\n",
      "1/1 [==============================] - 0s 15ms/step\n",
      "1/1 [==============================] - 0s 21ms/step\n",
      "1/1 [==============================] - 0s 16ms/step\n",
      "1/1 [==============================] - 0s 16ms/step\n",
      "1/1 [==============================] - 0s 31ms/step\n",
      "1/1 [==============================] - 0s 26ms/step\n",
      "1/1 [==============================] - 0s 10ms/step\n",
      "1/1 [==============================] - 0s 31ms/step\n",
      "1/1 [==============================] - 0s 40ms/step\n",
      "1/1 [==============================] - 0s 31ms/step\n",
      "1/1 [==============================] - 0s 32ms/step\n",
      "1/1 [==============================] - 0s 25ms/step\n",
      "1/1 [==============================] - 0s 16ms/step\n",
      "1/1 [==============================] - 0s 30ms/step\n",
      "1/1 [==============================] - 0s 29ms/step\n",
      "1/1 [==============================] - 0s 16ms/step\n",
      "1/1 [==============================] - 0s 32ms/step\n",
      "1/1 [==============================] - 0s 16ms/step\n",
      "1/1 [==============================] - 0s 37ms/step\n",
      "1/1 [==============================] - 0s 31ms/step\n",
      "1/1 [==============================] - 0s 35ms/step\n",
      "1/1 [==============================] - 0s 16ms/step\n",
      "1/1 [==============================] - 0s 29ms/step\n",
      "1/1 [==============================] - 0s 30ms/step\n",
      "1/1 [==============================] - 0s 32ms/step\n",
      "1/1 [==============================] - 0s 28ms/step\n",
      "1/1 [==============================] - 0s 31ms/step\n",
      "1/1 [==============================] - 0s 25ms/step\n",
      "1/1 [==============================] - 0s 8ms/step\n",
      "1/1 [==============================] - 0s 35ms/step\n",
      "1/1 [==============================] - 0s 24ms/step\n",
      "1/1 [==============================] - 0s 21ms/step\n",
      "1/1 [==============================] - 0s 16ms/step\n",
      "1/1 [==============================] - 0s 33ms/step\n",
      "1/1 [==============================] - 0s 30ms/step\n",
      "1/1 [==============================] - 0s 16ms/step\n",
      "1/1 [==============================] - 0s 31ms/step\n",
      "1/1 [==============================] - 0s 29ms/step\n",
      "1/1 [==============================] - 0s 18ms/step\n",
      "1/1 [==============================] - 0s 41ms/step\n",
      "1/1 [==============================] - 0s 32ms/step\n",
      "1/1 [==============================] - 0s 22ms/step\n",
      "1/1 [==============================] - 0s 25ms/step\n",
      "1/1 [==============================] - 0s 29ms/step\n",
      "1/1 [==============================] - 0s 30ms/step\n",
      "1/1 [==============================] - 0s 32ms/step\n",
      "1/1 [==============================] - 0s 15ms/step\n",
      "1/1 [==============================] - 0s 27ms/step\n",
      "1/1 [==============================] - 0s 32ms/step\n",
      "1/1 [==============================] - 0s 28ms/step\n",
      "1/1 [==============================] - 0s 23ms/step\n",
      "1/1 [==============================] - 0s 31ms/step\n",
      "1/1 [==============================] - 0s 16ms/step\n",
      "1/1 [==============================] - 0s 33ms/step\n",
      "1/1 [==============================] - 0s 37ms/step\n",
      "1/1 [==============================] - 0s 27ms/step\n",
      "1/1 [==============================] - 0s 30ms/step\n",
      "1/1 [==============================] - 0s 43ms/step\n",
      "1/1 [==============================] - 0s 19ms/step\n",
      "1/1 [==============================] - 0s 31ms/step\n",
      "1/1 [==============================] - 0s 21ms/step\n",
      "1/1 [==============================] - 0s 26ms/step\n",
      "1/1 [==============================] - 0s 29ms/step\n",
      "1/1 [==============================] - 0s 23ms/step\n",
      "1/1 [==============================] - 0s 26ms/step\n",
      "1/1 [==============================] - 0s 16ms/step\n",
      "1/1 [==============================] - 0s 31ms/step\n",
      "1/1 [==============================] - 0s 21ms/step\n",
      "1/1 [==============================] - 0s 21ms/step\n",
      "1/1 [==============================] - 0s 35ms/step\n",
      "1/1 [==============================] - 0s 16ms/step\n",
      "1/1 [==============================] - 0s 31ms/step\n",
      "1/1 [==============================] - 0s 29ms/step\n",
      "1/1 [==============================] - 0s 16ms/step\n",
      "1/1 [==============================] - 0s 32ms/step\n",
      "1/1 [==============================] - 0s 16ms/step\n",
      "1/1 [==============================] - 0s 16ms/step\n",
      "1/1 [==============================] - 0s 16ms/step\n",
      "1/1 [==============================] - 0s 20ms/step\n",
      "1/1 [==============================] - 0s 25ms/step\n",
      "1/1 [==============================] - 0s 31ms/step\n",
      "1/1 [==============================] - 0s 31ms/step\n",
      "1/1 [==============================] - 0s 31ms/step\n",
      "1/1 [==============================] - 0s 32ms/step\n",
      "1/1 [==============================] - 0s 31ms/step\n",
      "1/1 [==============================] - 0s 23ms/step\n",
      "1/1 [==============================] - 0s 27ms/step\n",
      "1/1 [==============================] - 0s 19ms/step\n",
      "1/1 [==============================] - 0s 16ms/step\n",
      "1/1 [==============================] - 0s 32ms/step\n",
      "1/1 [==============================] - 0s 32ms/step\n",
      "1/1 [==============================] - 0s 24ms/step\n",
      "1/1 [==============================] - 0s 19ms/step\n",
      "1/1 [==============================] - 0s 18ms/step\n",
      "1/1 [==============================] - 0s 31ms/step\n",
      "1/1 [==============================] - 0s 29ms/step\n",
      "1/1 [==============================] - 0s 31ms/step\n",
      "1/1 [==============================] - 0s 32ms/step\n",
      "1/1 [==============================] - 0s 31ms/step\n",
      "1/1 [==============================] - 0s 31ms/step\n",
      "1/1 [==============================] - 0s 31ms/step\n",
      "1/1 [==============================] - 0s 32ms/step\n",
      "1/1 [==============================] - 0s 26ms/step\n",
      "1/1 [==============================] - 0s 31ms/step\n",
      "1/1 [==============================] - 0s 16ms/step\n",
      "1/1 [==============================] - 0s 14ms/step\n"
     ]
    }
   ],
   "source": [
    "cam = cv2.VideoCapture(0)\n",
    "#roi - region of interest\n",
    "top=50\n",
    "bottom=300\n",
    "right=50\n",
    "left=250\n",
    "    \n",
    "    \n",
    "background=None\n",
    "count = 0\n",
    "\n",
    "digit=0\n",
    "\n",
    "sample_number=0\n",
    "while True: \n",
    "    value , frame = cam.read()\n",
    "    framecopy=frame.copy()\n",
    "    framecopy=cv2.flip(framecopy,1)\n",
    "    roi = framecopy[top:bottom,right:left]\n",
    "    roi_gray=cv2.cvtColor(roi,cv2.COLOR_BGR2GRAY)\n",
    "    roi_gray=cv2.GaussianBlur(roi_gray,(9,9),0)\n",
    "    \n",
    "    if background is None:\n",
    "        background = roi_gray.copy().astype('float')\n",
    "    \n",
    "    \n",
    "    \n",
    "    cv2.rectangle(framecopy,(left,top),(right,bottom),(0,0,255),3)\n",
    "    if count < 30:\n",
    "        cv2.accumulateWeighted(roi_gray,background,0.5)\n",
    "        cv2.putText(framecopy,'Loading...',(280,200),cv2.FONT_HERSHEY_SIMPLEX,1.5,(255,255,255),3)\n",
    "\n",
    "    collection = segmentation(roi_gray)\n",
    "    k = cv2.waitKey(1)\n",
    "\n",
    "    if collection is not None:\n",
    "        roi_processed,contour=collection\n",
    "        cv2.drawContours(framecopy,[contour+(right,top)],-1,(0,255,0),3)\n",
    "        \n",
    "        roi_processed = cv2.resize(roi_processed,(64,64))\n",
    "        roi_processed = cv2.cvtColor(roi_processed,cv2.COLOR_GRAY2RGB)\n",
    "        frame = np.reshape(roi_processed,(1,roi_processed.shape[0],roi_processed.shape[1],3))\n",
    "        \n",
    "        value = model4.predict(frame)\n",
    "        label = words[np.argmax(value)]\n",
    "        cv2.putText(framecopy,str(label),(370,145),cv2.FONT_HERSHEY_SIMPLEX,1.5,(255,255,255),3)\n",
    "        if k == ord(\" \"):\n",
    "            cv2.putText(framecopy,str(sample_number)+' Gesture('+str(digit)+' )',(70,45),cv2.FONT_HERSHEY_SIMPLEX,1.5,(255,255,255),3)\n",
    "            cv2.imwrite(\"D:/hema/asl_dataset/\"+str(digit)+'/'+str(digit)+'-'+str(sample_number)+'.jpg',roi_processed)\n",
    "            sample_number+=1\n",
    "            \n",
    "        cv2.imshow('Segmantation',roi_processed)\n",
    "        \n",
    "    cv2.putText(framecopy,'Gesture( '+str(digit)+' )',(50,340),cv2.FONT_HERSHEY_SIMPLEX,1.5,(255,255,255),1)\n",
    "\n",
    "    cv2.imshow('Camera',framecopy)\n",
    "\n",
    "    count+=1\n",
    "    if k == 27:\n",
    "        break\n",
    "    elif k == 13:\n",
    "        digit = (digit+1) % 11\n",
    "        sample_number=0\n",
    "        \n",
    "        \n",
    "    \n",
    "cv2.destroyAllWindows()\n",
    "cam.release()"
   ]
  },
  {
   "cell_type": "code",
   "execution_count": null,
   "id": "8c724a5e",
   "metadata": {},
   "outputs": [],
   "source": []
  },
  {
   "cell_type": "code",
   "execution_count": null,
   "id": "3358bd72",
   "metadata": {},
   "outputs": [],
   "source": []
  }
 ],
 "metadata": {
  "kernelspec": {
   "display_name": "Python 3 (ipykernel)",
   "language": "python",
   "name": "python3"
  },
  "language_info": {
   "codemirror_mode": {
    "name": "ipython",
    "version": 3
   },
   "file_extension": ".py",
   "mimetype": "text/x-python",
   "name": "python",
   "nbconvert_exporter": "python",
   "pygments_lexer": "ipython3",
   "version": "3.9.13"
  }
 },
 "nbformat": 4,
 "nbformat_minor": 5
}
